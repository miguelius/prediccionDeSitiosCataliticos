{
 "cells": [
  {
   "cell_type": "code",
   "execution_count": 85,
   "metadata": {
    "collapsed": false,
    "scrolled": true
   },
   "outputs": [
    {
     "data": {
      "text/plain": [
       "getUniProtChainResidues (generic function with 1 method)"
      ]
     },
     "execution_count": 85,
     "metadata": {},
     "output_type": "execute_result"
    }
   ],
   "source": [
    "# Pkg.add(\"DataFrames\")\n",
    "# Pkg.add(\"Requests\")\n",
    "# Pkg.add(\"MIToS\")\n",
    "using DataFrames\n",
    "using Requests\n",
    "using MIToS.SIFTS\n",
    "\n",
    "function getCSA()\n",
    "    url = \"http://www.ebi.ac.uk/thornton-srv/databases/CSA/downloads/CSA_2_0_121113.txt\"\n",
    "    csa_file = \"csa.csv\"\n",
    "    \n",
    "    if (stat(csa_file).mode == 0) \n",
    "        stream = Requests.get_streaming(url)\n",
    "        headers(stream)\n",
    "        response = readall(stream) \n",
    "        open(csa_file, \"w\") do file\n",
    "            write(file, response)\n",
    "        end        \n",
    "    end\n",
    "    readtable(csa_file)\n",
    "end\n",
    "\n",
    "function getUniProtChainResidues(pdb_accessor, the_chain, the_number)\n",
    "    siftsfile = string(pdb_accessor,\".xml.gz\")\n",
    "    if (stat(siftsfile).mode == 0)\n",
    "        siftsfile = downloadsifts(pdb_accessor)\n",
    "    end\n",
    "    siftsresidues = read(siftsfile, SIFTSXML, chain=the_chain, missings=false) # Array{SIFTSResidue,1}\n",
    "\n",
    "    indexes = findobjects(siftsresidues, dbPDB, SIFTS.In(:number, the_number))\n",
    "\n",
    "    [ get(siftsresidues[ idx ].UniProt) for idx in indexes ] # UniProt data of the basic residues\n",
    "end\n"
   ]
  },
  {
   "cell_type": "code",
   "execution_count": null,
   "metadata": {
    "collapsed": false,
    "scrolled": true
   },
   "outputs": [],
   "source": [
    "catalytic_sites = getCSA()\n",
    "head(catalytic_sites)"
   ]
  },
  {
   "cell_type": "code",
   "execution_count": null,
   "metadata": {
    "collapsed": false
   },
   "outputs": [],
   "source": [
    "# obtengo las que tiene evidencia en la literatura\n",
    "literature_catalytic_sites= catalytic_sites[catalytic_sites[:EVIDENCE_TYPE] .== \"LIT\",:]\n",
    "size(literature_catalytic_sites)"
   ]
  },
  {
   "cell_type": "code",
   "execution_count": null,
   "metadata": {
    "collapsed": false
   },
   "outputs": [],
   "source": [
    "getUniProtChainResidues(\"12as\",\"A\",[46,100,116])"
   ]
  },
  {
   "cell_type": "code",
   "execution_count": null,
   "metadata": {
    "collapsed": false
   },
   "outputs": [],
   "source": [
    "getUniProtChainResidues(\"132l\",\"A\",[52,35])"
   ]
  }
 ],
 "metadata": {
  "kernelspec": {
   "display_name": "Julia 0.4.6",
   "language": "julia",
   "name": "julia-0.4"
  },
  "language_info": {
   "file_extension": ".jl",
   "mimetype": "application/julia",
   "name": "julia",
   "version": "0.4.6"
  }
 },
 "nbformat": 4,
 "nbformat_minor": 0
}
