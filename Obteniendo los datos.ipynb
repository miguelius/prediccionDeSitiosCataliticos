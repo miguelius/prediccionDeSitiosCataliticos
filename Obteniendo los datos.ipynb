{
 "cells": [
  {
   "cell_type": "code",
   "execution_count": null,
   "metadata": {
    "collapsed": false
   },
   "outputs": [],
   "source": [
    "# Pkg.add(\"DataFrames\")\n",
    "# Pkg.add(\"Requests\")\n",
    "# Pkg.add(\"MIToS\")\n",
    "using MIToS\n",
    "using DataFrames\n",
    "using Requests\n",
    "\n",
    "url = \"http://www.ebi.ac.uk/thornton-srv/databases/CSA/downloads/CSA_2_0_121113.txt\"\n",
    "stream = Requests.get_streaming(url)\n",
    "\n",
    "headers(stream)\n",
    "# se baja el csa en un archivo local\n",
    "#open(\"csa.csv\", \"w\") do file\n",
    "#  while !eof(stream)\n",
    "#    write(file, readavailable(stream))\n",
    "#  end\n",
    "#end\n",
    "response = readall(stream) \n",
    "\n",
    "open(\"csa.csv\", \"w\") do file\n",
    "    write(file, response)\n",
    "end"
   ]
  },
  {
   "cell_type": "code",
   "execution_count": 22,
   "metadata": {
    "collapsed": false
   },
   "outputs": [
    {
     "data": {
      "text/html": [
       "<table class=\"data-frame\"><tr><th></th><th>PDB_ID</th><th>SITE_NUMBER</th><th>RESIDUE_TYPE</th><th>CHAIN_ID</th><th>RESIDUE_NUMBER</th><th>CHEMICAL_FUNCTION</th><th>EVIDENCE_TYPE</th><th>LITERATURE_ENTRY</th></tr><tr><th>1</th><td>12as</td><td>0</td><td>Arg</td><td>A</td><td>100</td><td>S</td><td>LIT</td><td>12as</td></tr><tr><th>2</th><td>12as</td><td>0</td><td>Asp</td><td>A</td><td>46</td><td>S</td><td>LIT</td><td>12as</td></tr><tr><th>3</th><td>12as</td><td>0</td><td>Gln</td><td>A</td><td>116</td><td>S</td><td>LIT</td><td>12as</td></tr><tr><th>4</th><td>132l</td><td>0</td><td>Asp</td><td>A</td><td>52</td><td>S</td><td>LIT</td><td>132l</td></tr><tr><th>5</th><td>132l</td><td>0</td><td>Glu</td><td>A</td><td>35</td><td>S</td><td>LIT</td><td>132l</td></tr><tr><th>6</th><td>135l</td><td>0</td><td>Asp</td><td>A</td><td>52</td><td>S</td><td>LIT</td><td>135l</td></tr></table>"
      ],
      "text/plain": [
       "6×8 DataFrames.DataFrame\n",
       "│ Row │ PDB_ID │ SITE_NUMBER │ RESIDUE_TYPE │ CHAIN_ID │ RESIDUE_NUMBER │\n",
       "├─────┼────────┼─────────────┼──────────────┼──────────┼────────────────┤\n",
       "│ 1   │ \"12as\" │ 0           │ \"Arg\"        │ \"A\"      │ 100            │\n",
       "│ 2   │ \"12as\" │ 0           │ \"Asp\"        │ \"A\"      │ 46             │\n",
       "│ 3   │ \"12as\" │ 0           │ \"Gln\"        │ \"A\"      │ 116            │\n",
       "│ 4   │ \"132l\" │ 0           │ \"Asp\"        │ \"A\"      │ 52             │\n",
       "│ 5   │ \"132l\" │ 0           │ \"Glu\"        │ \"A\"      │ 35             │\n",
       "│ 6   │ \"135l\" │ 0           │ \"Asp\"        │ \"A\"      │ 52             │\n",
       "\n",
       "│ Row │ CHEMICAL_FUNCTION │ EVIDENCE_TYPE │ LITERATURE_ENTRY │\n",
       "├─────┼───────────────────┼───────────────┼──────────────────┤\n",
       "│ 1   │ \"S\"               │ \"LIT\"         │ \"12as\"           │\n",
       "│ 2   │ \"S\"               │ \"LIT\"         │ \"12as\"           │\n",
       "│ 3   │ \"S\"               │ \"LIT\"         │ \"12as\"           │\n",
       "│ 4   │ \"S\"               │ \"LIT\"         │ \"132l\"           │\n",
       "│ 5   │ \"S\"               │ \"LIT\"         │ \"132l\"           │\n",
       "│ 6   │ \"S\"               │ \"LIT\"         │ \"135l\"           │"
      ]
     },
     "execution_count": 22,
     "metadata": {},
     "output_type": "execute_result"
    }
   ],
   "source": [
    "catalytic_sites = readtable(\"csa.csv\")\n",
    "head(catalytic_sites)"
   ]
  },
  {
   "cell_type": "code",
   "execution_count": 27,
   "metadata": {
    "collapsed": false
   },
   "outputs": [
    {
     "data": {
      "text/plain": [
       "(6260,8)"
      ]
     },
     "execution_count": 27,
     "metadata": {},
     "output_type": "execute_result"
    }
   ],
   "source": [
    "# obtengo las que tiene evidencia en la literatura\n",
    "literature_catalytic_sites= catalytic_sites[catalytic_sites[:EVIDENCE_TYPE] .== \"LIT\",:]\n",
    "size(literature_catalytic_sites)"
   ]
  },
  {
   "cell_type": "code",
   "execution_count": 18,
   "metadata": {
    "collapsed": false
   },
   "outputs": [
    {
     "data": {
      "text/html": [
       "<table class=\"data-frame\"><tr><th></th><th>PDB_ID</th><th>SITE_NUMBER</th><th>RESIDUE_TYPE</th><th>CHAIN_ID</th><th>RESIDUE_NUMBER</th><th>CHEMICAL_FUNCTION</th><th>EVIDENCE_TYPE</th><th>LITERATURE_ENTRY</th></tr><tr><th>1</th><td>1y7l</td><td>1</td><td>Lys</td><td>A</td><td>42</td><td>S</td><td>HOM</td><td>1m54</td></tr><tr><th>2</th><td>1y7l</td><td>2</td><td>Ser</td><td>A</td><td>272</td><td>S</td><td>HOM</td><td>1oas</td></tr><tr><th>3</th><td>1y7l</td><td>2</td><td>Lys</td><td>A</td><td>42</td><td>S</td><td>HOM</td><td>1oas</td></tr><tr><th>4</th><td>3iqg</td><td>1</td><td>Lys</td><td>X</td><td>42</td><td>S</td><td>HOM</td><td>1m54</td></tr><tr><th>5</th><td>3iqg</td><td>2</td><td>Ser</td><td>X</td><td>272</td><td>S</td><td>HOM</td><td>1oas</td></tr><tr><th>6</th><td>3iqg</td><td>2</td><td>Lys</td><td>X</td><td>42</td><td>S</td><td>HOM</td><td>1oas</td></tr></table>"
      ],
      "text/plain": [
       "6×8 DataFrames.DataFrame\n",
       "│ Row │ PDB_ID │ SITE_NUMBER │ RESIDUE_TYPE │ CHAIN_ID │ RESIDUE_NUMBER │\n",
       "├─────┼────────┼─────────────┼──────────────┼──────────┼────────────────┤\n",
       "│ 1   │ \"1y7l\" │ 1           │ \"Lys\"        │ \"A\"      │ 42             │\n",
       "│ 2   │ \"1y7l\" │ 2           │ \"Ser\"        │ \"A\"      │ 272            │\n",
       "│ 3   │ \"1y7l\" │ 2           │ \"Lys\"        │ \"A\"      │ 42             │\n",
       "│ 4   │ \"3iqg\" │ 1           │ \"Lys\"        │ \"X\"      │ 42             │\n",
       "│ 5   │ \"3iqg\" │ 2           │ \"Ser\"        │ \"X\"      │ 272            │\n",
       "│ 6   │ \"3iqg\" │ 2           │ \"Lys\"        │ \"X\"      │ 42             │\n",
       "\n",
       "│ Row │ CHEMICAL_FUNCTION │ EVIDENCE_TYPE │ LITERATURE_ENTRY │\n",
       "├─────┼───────────────────┼───────────────┼──────────────────┤\n",
       "│ 1   │ \"S\"               │ \"HOM\"         │ \"1m54\"           │\n",
       "│ 2   │ \"S\"               │ \"HOM\"         │ \"1oas\"           │\n",
       "│ 3   │ \"S\"               │ \"HOM\"         │ \"1oas\"           │\n",
       "│ 4   │ \"S\"               │ \"HOM\"         │ \"1m54\"           │\n",
       "│ 5   │ \"S\"               │ \"HOM\"         │ \"1oas\"           │\n",
       "│ 6   │ \"S\"               │ \"HOM\"         │ \"1oas\"           │"
      ]
     },
     "execution_count": 18,
     "metadata": {},
     "output_type": "execute_result"
    }
   ],
   "source": []
  },
  {
   "cell_type": "code",
   "execution_count": null,
   "metadata": {
    "collapsed": true
   },
   "outputs": [],
   "source": []
  }
 ],
 "metadata": {
  "kernelspec": {
   "display_name": "Julia 0.4.6",
   "language": "julia",
   "name": "julia-0.4"
  },
  "language_info": {
   "file_extension": ".jl",
   "mimetype": "application/julia",
   "name": "julia",
   "version": "0.4.6"
  }
 },
 "nbformat": 4,
 "nbformat_minor": 0
}
