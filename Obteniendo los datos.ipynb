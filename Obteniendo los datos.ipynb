{
 "cells": [
  {
   "cell_type": "code",
   "execution_count": 73,
   "metadata": {
    "collapsed": false,
    "scrolled": true
   },
   "outputs": [
    {
     "data": {
      "text/plain": [
       "getUniProtChainResidues (generic function with 1 method)"
      ]
     },
     "execution_count": 73,
     "metadata": {},
     "output_type": "execute_result"
    }
   ],
   "source": [
    "# Pkg.add(\"DataFrames\")\n",
    "# Pkg.add(\"Requests\")\n",
    "# Pkg.add(\"MIToS\")\n",
    "using DataFrames\n",
    "using Requests\n",
    "using MIToS.SIFTS\n",
    "\n",
    "function getCSA()\n",
    "    url = \"http://www.ebi.ac.uk/thornton-srv/databases/CSA/downloads/CSA_2_0_121113.txt\"\n",
    "    csa_file = \"csa.csv\"\n",
    "    \n",
    "    if (stat(csa_file).mode == 0) \n",
    "        stream = Requests.get_streaming(url)\n",
    "        headers(stream)\n",
    "        response = readall(stream) \n",
    "        open(csa_file, \"w\") do file\n",
    "            write(file, response)\n",
    "        end        \n",
    "    end\n",
    "    readtable(csa_file)\n",
    "end\n",
    "\n",
    "function getUniProtChainResidues(pdb_accessor, the_chain, the_number)\n",
    "    siftsfile = string(pdb_accessor,\".xml.gz\")\n",
    "    if (stat(siftsfile).mode == 0)\n",
    "        siftsfile = downloadsifts(pdb_accessor)\n",
    "    end\n",
    "    siftsresidues = read(siftsfile, SIFTSXML, chain=the_chain, missings=false) # Array{SIFTSResidue,1}\n",
    "\n",
    "    indexes = findobjects(siftsresidues, dbPDB, SIFTS.In(:number, the_number))\n",
    "\n",
    "    [ get(siftsresidues[ idx ].UniProt) for idx in indexes ] # UniProt data of the basic residues\n",
    "end\n"
   ]
  },
  {
   "cell_type": "code",
   "execution_count": 10,
   "metadata": {
    "collapsed": false,
    "scrolled": true
   },
   "outputs": [
    {
     "data": {
      "text/html": [
       "<table class=\"data-frame\"><tr><th></th><th>PDB_ID</th><th>SITE_NUMBER</th><th>RESIDUE_TYPE</th><th>CHAIN_ID</th><th>RESIDUE_NUMBER</th><th>CHEMICAL_FUNCTION</th><th>EVIDENCE_TYPE</th><th>LITERATURE_ENTRY</th></tr><tr><th>1</th><td>12as</td><td>0</td><td>Arg</td><td>A</td><td>100</td><td>S</td><td>LIT</td><td>12as</td></tr><tr><th>2</th><td>12as</td><td>0</td><td>Asp</td><td>A</td><td>46</td><td>S</td><td>LIT</td><td>12as</td></tr><tr><th>3</th><td>12as</td><td>0</td><td>Gln</td><td>A</td><td>116</td><td>S</td><td>LIT</td><td>12as</td></tr><tr><th>4</th><td>132l</td><td>0</td><td>Asp</td><td>A</td><td>52</td><td>S</td><td>LIT</td><td>132l</td></tr><tr><th>5</th><td>132l</td><td>0</td><td>Glu</td><td>A</td><td>35</td><td>S</td><td>LIT</td><td>132l</td></tr><tr><th>6</th><td>135l</td><td>0</td><td>Asp</td><td>A</td><td>52</td><td>S</td><td>LIT</td><td>135l</td></tr></table>"
      ],
      "text/plain": [
       "6×8 DataFrames.DataFrame\n",
       "│ Row │ PDB_ID │ SITE_NUMBER │ RESIDUE_TYPE │ CHAIN_ID │ RESIDUE_NUMBER │\n",
       "├─────┼────────┼─────────────┼──────────────┼──────────┼────────────────┤\n",
       "│ 1   │ \"12as\" │ 0           │ \"Arg\"        │ \"A\"      │ 100            │\n",
       "│ 2   │ \"12as\" │ 0           │ \"Asp\"        │ \"A\"      │ 46             │\n",
       "│ 3   │ \"12as\" │ 0           │ \"Gln\"        │ \"A\"      │ 116            │\n",
       "│ 4   │ \"132l\" │ 0           │ \"Asp\"        │ \"A\"      │ 52             │\n",
       "│ 5   │ \"132l\" │ 0           │ \"Glu\"        │ \"A\"      │ 35             │\n",
       "│ 6   │ \"135l\" │ 0           │ \"Asp\"        │ \"A\"      │ 52             │\n",
       "\n",
       "│ Row │ CHEMICAL_FUNCTION │ EVIDENCE_TYPE │ LITERATURE_ENTRY │\n",
       "├─────┼───────────────────┼───────────────┼──────────────────┤\n",
       "│ 1   │ \"S\"               │ \"LIT\"         │ \"12as\"           │\n",
       "│ 2   │ \"S\"               │ \"LIT\"         │ \"12as\"           │\n",
       "│ 3   │ \"S\"               │ \"LIT\"         │ \"12as\"           │\n",
       "│ 4   │ \"S\"               │ \"LIT\"         │ \"132l\"           │\n",
       "│ 5   │ \"S\"               │ \"LIT\"         │ \"132l\"           │\n",
       "│ 6   │ \"S\"               │ \"LIT\"         │ \"135l\"           │"
      ]
     },
     "execution_count": 10,
     "metadata": {},
     "output_type": "execute_result"
    }
   ],
   "source": [
    "catalytic_sites = getCSA()\n",
    "head(catalytic_sites)"
   ]
  },
  {
   "cell_type": "code",
   "execution_count": 84,
   "metadata": {
    "collapsed": false
   },
   "outputs": [
    {
     "ename": "LoadError",
     "evalue": "LoadError: UndefVarError: nrows not defined\nwhile loading In[84], in expression starting on line 3",
     "output_type": "error",
     "traceback": [
      "LoadError: UndefVarError: nrows not defined\nwhile loading In[84], in expression starting on line 3",
      ""
     ]
    }
   ],
   "source": [
    "# obtengo las que tiene evidencia en la literatura\n",
    "literature_catalytic_sites= catalytic_sites[catalytic_sites[:EVIDENCE_TYPE] .== \"LIT\",:]\n",
    "nrows(literature_catalytic_sites)"
   ]
  },
  {
   "cell_type": "code",
   "execution_count": 61,
   "metadata": {
    "collapsed": false
   },
   "outputs": [
    {
     "data": {
      "text/plain": [
       "0-element Array{Any,1}"
      ]
     },
     "execution_count": 61,
     "metadata": {},
     "output_type": "execute_result"
    }
   ],
   "source": [
    "getUniProtChainResidues(\"12as\",\"A\",[46,100,116])"
   ]
  },
  {
   "cell_type": "code",
   "execution_count": 74,
   "metadata": {
    "collapsed": false
   },
   "outputs": [
    {
     "name": "stderr",
     "output_type": "stream",
     "text": [
      "  % Total    % Received % Xferd  Average Speed   Time    Time     Time  Current\n",
      "                                 Dload  Upload   Total   Spent    Left  Speed\n",
      "100  8976  100  8976    0     0   1284      0  0:00:06  0:00:06 --:--:--  2089\n"
     ]
    },
    {
     "data": {
      "text/plain": [
       "2-element Array{Any,1}:\n",
       " MIToS.SIFTS.dbUniProt(\"P00698\",53,\"E\")\n",
       " MIToS.SIFTS.dbUniProt(\"P00698\",70,\"D\")"
      ]
     },
     "execution_count": 74,
     "metadata": {},
     "output_type": "execute_result"
    }
   ],
   "source": [
    "getUniProtChainResidues(\"132l\",\"A\",[52,35])"
   ]
  }
 ],
 "metadata": {
  "kernelspec": {
   "display_name": "Julia 0.4.6",
   "language": "julia",
   "name": "julia-0.4"
  },
  "language_info": {
   "file_extension": ".jl",
   "mimetype": "application/julia",
   "name": "julia",
   "version": "0.4.6"
  }
 },
 "nbformat": 4,
 "nbformat_minor": 0
}
